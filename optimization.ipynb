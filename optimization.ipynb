{
  "nbformat": 4,
  "nbformat_minor": 0,
  "metadata": {
    "colab": {
      "name": "optimization.ipynb",
      "provenance": [],
      "collapsed_sections": []
    },
    "kernelspec": {
      "name": "python3",
      "display_name": "Python 3"
    }
  },
  "cells": [
    {
      "cell_type": "code",
      "metadata": {
        "id": "139hTH3jELYd"
      },
      "source": [
        "from numpy import *\n",
        "import matplotlib.pyplot as plt\n",
        "\n",
        "x = arange(0, 10, 0.1)\n",
        "x = expand_dims(x, 1)\n",
        "noise = 2*random.randn(*x.shape)\n",
        "y = 5*x+10 + noise\n",
        "\n",
        "points = concatenate((x,y), axis=1)\n",
        "\n",
        "\n",
        "# y = mx + b\n",
        "# m is slope, b is y-intercept\n",
        "def compute_error_for_line_given_points(b, m, points):\n",
        "    totalError = 0\n",
        "    for i in range(0, len(points)):\n",
        "        x = points[i, 0]\n",
        "        y = points[i, 1]\n",
        "        totalError += (y - (m * x + b)) ** 2\n",
        "    return totalError / float(len(points))\n",
        "\n",
        "def step_gradient(b_current, m_current, points, learningRate):\n",
        "    b_gradient = 0\n",
        "    m_gradient = 0\n",
        "    N = float(len(points))\n",
        "    for i in range(0, len(points)):\n",
        "        x = points[i, 0]\n",
        "        y = points[i, 1]\n",
        "        b_gradient += -(2/N) * ((y - ((m_current * x) + b_current)))\n",
        "        m_gradient += -(2/N) * (x * (y - ((m_current * x) + b_current)))\n",
        "    new_b = b_current - (learningRate * b_gradient)\n",
        "    new_m = m_current - (learningRate * m_gradient)\n",
        "    return [new_b, new_m]\n",
        "\n",
        "def gradient_descent_runner(points, starting_b, starting_m, learning_rate, \n",
        "                            num_iterations):\n",
        "    b = starting_b\n",
        "    m = starting_m\n",
        "    loss = []\n",
        "    for i in range(num_iterations):\n",
        "        b, m = step_gradient(b, m, array(points), learning_rate)\n",
        "        loss.append(compute_error_for_line_given_points(b, m, points))\n",
        "\n",
        "    return b, m, loss\n",
        "\n",
        "def run():\n",
        "    learning_rate = 0.01 # learning rate \n",
        "    initial_b = 20 # initial y-intercept guess\n",
        "    initial_m = 50 # initial slope guess\n",
        "    num_iterations = 1000 # number of iteration, epoch \n",
        "    print(\"Starting gradient descent at b = {0}, m = {1}, error = {2}\".format(initial_b, initial_m, \n",
        "    compute_error_for_line_given_points(initial_b, initial_m, points)))\n",
        "    print(\"Running...\")\n",
        "    b, m , loss = gradient_descent_runner(points, initial_b, initial_m, learning_rate, num_iterations)\n",
        "    print(\"After {0} iterations b = {1}, m = {2}, error = {3}\".format(\n",
        "        num_iterations, b, m, compute_error_for_line_given_points(b, m, points)))\n",
        "    return b, m, loss"
      ],
      "execution_count": null,
      "outputs": []
    },
    {
      "cell_type": "markdown",
      "metadata": {
        "id": "0iKQfc_HEJTf"
      },
      "source": [
        "# ส่วนใหม่"
      ]
    },
    {
      "cell_type": "code",
      "metadata": {
        "colab": {
          "base_uri": "https://localhost:8080/"
        },
        "id": "PEyMMSGgEAl-",
        "outputId": "1bbabed6-5951-443b-c530-ddfe76c0c9db"
      },
      "source": [
        "b, m, loss = run()\n",
        "print(len(loss))"
      ],
      "execution_count": null,
      "outputs": [
        {
          "output_type": "stream",
          "name": "stdout",
          "text": [
            "Starting gradient descent at b = 20, m = 50, error = 71013.65309054643\n",
            "Running...\n",
            "After 1000 iterations b = 9.644941192149991, m = 5.065953015455781, error = 3.8494881792289473\n",
            "1000\n"
          ]
        }
      ]
    },
    {
      "cell_type": "code",
      "metadata": {
        "colab": {
          "base_uri": "https://localhost:8080/",
          "height": 265
        },
        "id": "bQgfwU3REk9C",
        "outputId": "3b6e9663-9924-480e-bf3c-82b0a5d03e23"
      },
      "source": [
        "plt.plot(x,y,'bo')\n",
        "plt.plot(x, m*x+b,'r')\n",
        "plt.show()"
      ],
      "execution_count": null,
      "outputs": [
        {
          "output_type": "display_data",
          "data": {
            "image/png": "[encoded data removed]",
            "text/plain": [
              "<Figure size 432x288 with 1 Axes>"
            ]
          },
          "metadata": {
            "needs_background": "light"
          }
        }
      ]
    },
    {
      "cell_type": "code",
      "metadata": {
        "colab": {
          "base_uri": "https://localhost:8080/",
          "height": 268
        },
        "id": "xGE3xpHxOMxQ",
        "outputId": "9c587589-2452-471c-894f-2c2932decfa4"
      },
      "source": [
        "plt.plot(arange(len(loss)), loss)\n",
        "# plt.plot(arange(10), loss[:10])\n",
        "plt.show()\n"
      ],
      "execution_count": null,
      "outputs": [
        {
          "output_type": "display_data",
          "data": {
            "image/png": "[encoded data removed]",
            "text/plain": [
              "<Figure size 432x288 with 1 Axes>"
            ]
          },
          "metadata": {
            "needs_background": "light"
          }
        }
      ]
    }
  ]
}